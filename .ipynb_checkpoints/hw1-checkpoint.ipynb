{
 "cells": [
  {
   "cell_type": "code",
   "execution_count": 3,
   "metadata": {},
   "outputs": [],
   "source": [
    "## Import the data files\n",
    "def cleanup(string,n=10000):\n",
    "    return(string.replace('\"','').replace('\\n','').split(',',))\n",
    "## Instead of .replace('\\n',''), use .rstrip()\n",
    "\n",
    "\n",
    "path_to_data_folder = '/Users/student/Documents/fundamentals/programming/data/'"
   ]
  },
  {
   "cell_type": "code",
   "execution_count": 4,
   "metadata": {},
   "outputs": [],
   "source": [
    "## Expression data\n",
    "with open(path_to_data_folder+'E-MTAB-7365.csv') as f:\n",
    "    expdata_raw= [cleanup(x) for x in f.readlines()]\n",
    "\n",
    "## Read in cluster file and apply generic cleaning function\n",
    "with open(path_to_data_folder+ 'E-MTAB-7365.clusters.csv') as f:\n",
    "    clusters_raw = [cleanup(x) for x in f.readlines()]"
   ]
  },
  {
   "cell_type": "code",
   "execution_count": 5,
   "metadata": {},
   "outputs": [],
   "source": [
    "## obtain gene and cell IDs\n",
    "expdata_cell_ids = expdata_raw[0]\n",
    "expdata_gene_ids = [x[0] for x in expdata_raw[1:]]"
   ]
  },
  {
   "cell_type": "code",
   "execution_count": 6,
   "metadata": {},
   "outputs": [],
   "source": [
    "cell_to_expression_map = {}\n",
    "for pos,cell_id in enumerate(expdata_cell_ids):\n",
    "    expvalues = [0 if x[1:][pos] == '' else float(x[1:][pos]) for x in expdata_raw[1:]]\n",
    "    cell_to_expression_map[cell_id] = expvalues"
   ]
  },
  {
   "cell_type": "code",
   "execution_count": 7,
   "metadata": {},
   "outputs": [],
   "source": [
    "## Quick and dirty way to get the correct # of clusters\n",
    "cluster_cell_ids = clusters_raw[0][2:] ## Skip first two columns\n",
    "\n",
    "k_pos = [x[0] for x in clusters_raw[1:]].index('True') ## Search for the position of \"true\" in k.sel\n",
    "\n",
    "k = int(clusters_raw[1:][k_pos][1]) ## get that value of k\n",
    "\n",
    "selected_clusters = clusters_raw[1:][k_pos][2:-1] ## get selected clusters, drop final row of 0's\n",
    "\n",
    "clusters = [i for i in range(1,k+1)] ## define all clusters"
   ]
  },
  {
   "cell_type": "code",
   "execution_count": 8,
   "metadata": {},
   "outputs": [],
   "source": [
    "average_expression_in_cluster = []\n",
    "for clust_id in clusters:\n",
    "    ## Identify cells in cluster\n",
    "    cells_in_cluster = []\n",
    "    for pos,entry in enumerate(selected_clusters):\n",
    "        if int(entry)==int(clust_id):\n",
    "            cells_in_cluster.append(cluster_cell_ids[pos]) ## look up cell using position in table.\n",
    "    \n",
    "    ## Obtain expression list for each cell using cell_to_expression map \n",
    "    expression_by_cells_in_cluster = [cell_to_expression_map[cell] for cell in cells_in_cluster]\n",
    "    \n",
    "    ## Calculate average across cells for each gene (x is vector of exp. per gene across cells.)\n",
    "    average_expression_in_cluster.append([sum(x)/len(x) for x in list(zip(*expression_by_cells_in_cluster))])\n",
    "    \n",
    "    ## zero value consideration. if a cell does not contain expression of 0 value. \n",
    "\n",
    "    \n",
    "## transpose averaverage_expression_in_clusters, to be gene x cluster, and zip w/ cluster IDs\n",
    "## then turn the whole thing into a dictionary using gene IDs\n",
    "## final data structure, gene_ids --> cluster --> expression\n",
    "final = dict(zip(expdata_gene_ids,\n",
    "                 [dict(zip(clusters,x)) for x in zip(*average_expression_in_cluster)]\n",
    "            ))\n",
    "\n",
    "## Also reversed:\n",
    "## final_rev data structure, cluster --> gene_ids --> expression\n",
    "final_rev = dict(zip(clusters,\n",
    "    [dict(zip(expdata_gene_ids,x)) for x in average_expression_in_cluster]\n",
    "   ))"
   ]
  },
  {
   "cell_type": "code",
   "execution_count": 9,
   "metadata": {},
   "outputs": [
    {
     "name": "stdout",
     "output_type": "stream",
     "text": [
      "True\n"
     ]
    }
   ],
   "source": [
    "## Example:\n",
    "print(final['ENSMUSG00000000001'][1] == final_rev[1]['ENSMUSG00000000001'])"
   ]
  },
  {
   "cell_type": "code",
   "execution_count": 13,
   "metadata": {},
   "outputs": [
    {
     "ename": "AttributeError",
     "evalue": "'list' object has no attribute 'join'",
     "output_type": "error",
     "traceback": [
      "\u001b[0;31m---------------------------------------------------------------------------\u001b[0m",
      "\u001b[0;31mAttributeError\u001b[0m                            Traceback (most recent call last)",
      "\u001b[0;32m<ipython-input-13-a4d1ee8d44ea>\u001b[0m in \u001b[0;36m<module>\u001b[0;34m\u001b[0m\n\u001b[0;32m----> 1\u001b[0;31m \u001b[0mprint\u001b[0m\u001b[0;34m(\u001b[0m\u001b[0mlist\u001b[0m\u001b[0;34m(\u001b[0m\u001b[0mfinal\u001b[0m\u001b[0;34m.\u001b[0m\u001b[0mkeys\u001b[0m\u001b[0;34m(\u001b[0m\u001b[0;34m)\u001b[0m\u001b[0;34m)\u001b[0m\u001b[0;34m.\u001b[0m\u001b[0mjoin\u001b[0m\u001b[0;34m(\u001b[0m\u001b[0;34m'\\t'\u001b[0m\u001b[0;34m)\u001b[0m\u001b[0;34m)\u001b[0m\u001b[0;34m\u001b[0m\u001b[0;34m\u001b[0m\u001b[0m\n\u001b[0m",
      "\u001b[0;31mAttributeError\u001b[0m: 'list' object has no attribute 'join'"
     ]
    }
   ],
   "source": [
    "print(list(final.keys()).join('\\t'))"
   ]
  },
  {
   "cell_type": "code",
   "execution_count": null,
   "metadata": {},
   "outputs": [],
   "source": []
  }
 ],
 "metadata": {
  "kernelspec": {
   "display_name": "Python 3",
   "language": "python",
   "name": "python3"
  },
  "language_info": {
   "codemirror_mode": {
    "name": "ipython",
    "version": 3
   },
   "file_extension": ".py",
   "mimetype": "text/x-python",
   "name": "python",
   "nbconvert_exporter": "python",
   "pygments_lexer": "ipython3",
   "version": "3.7.3"
  }
 },
 "nbformat": 4,
 "nbformat_minor": 2
}
