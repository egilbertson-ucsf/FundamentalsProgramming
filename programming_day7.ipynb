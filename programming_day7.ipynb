{
 "cells": [
  {
   "cell_type": "code",
   "execution_count": 2,
   "metadata": {},
   "outputs": [],
   "source": [
    "## Ramachandran lab"
   ]
  },
  {
   "cell_type": "code",
   "execution_count": 177,
   "metadata": {},
   "outputs": [],
   "source": [
    "import numpy as np\n",
    "import requests as rq\n",
    "import pandas as pd\n",
    "import Bio.PDB as bp\n",
    "from io import StringIO\n",
    "import matplotlib.pyplot as plt"
   ]
  },
  {
   "cell_type": "code",
   "execution_count": 217,
   "metadata": {},
   "outputs": [],
   "source": [
    "## get data file\n",
    "def get_reference_dataset():\n",
    "    remote_url = 'https://raw.githubusercontent.com/rlabduke/reference_data/master/Top8000/Top8000_ramachandran_pct_contour_grids/rama8000-general-noGPIVpreP.data'\n",
    "    r = requests.get(remote_url)\n",
    "    df = pd.read_csv(StringIO(r.text),sep=' ',skiprows=6,names=['psi','phi','density'])\n",
    "    return(df)"
   ]
  },
  {
   "cell_type": "code",
   "execution_count": 218,
   "metadata": {},
   "outputs": [],
   "source": [
    "## getting the PBD file and calculating the psi and phi.\n",
    "def get_rcsb(pdb_id): ## double check this \n",
    "    get_request = \"https://files.rcsb.org/download/\"\n",
    "    \n",
    "    try:\n",
    "        request = rq.get(get_request+pdb_id+\".pdb\")\n",
    "        \n",
    "    except rq.exceptions.HTTPError:\n",
    "        raise Exception(\"PDB ID could not be found in RCSB database.\")\n",
    "\n",
    "    return(request)\n",
    "\n",
    "def load_pdb(pdb_id):\n",
    "    pdb_data_file = get_rcsb(pdb_id)\n",
    "    \n",
    "    parser = bp.PDBParser()\n",
    "    pdb_structure = parser.get_structure(pdb_id,StringIO(pdb_data_file.text))\n",
    "    \n",
    "    return(pdb_structure)\n",
    "    \n",
    "def get_psi_phi_from_structure(structure):\n",
    "    psi_phi_list = []\n",
    "    for model in structure:\n",
    "        for chain in model:\n",
    "            temp_peptide = bp.PPBuilder().build_peptides(chain)\n",
    "            psi_phi_list += temp_peptide[0].get_phi_psi_list()\n",
    "\n",
    "    data = pd.DataFrame(psi_phi_list).dropna()*180/np.pi\n",
    "    data = data.rename(columns={0:'psi',1:'phi'})\n",
    "    \n",
    "    return(data)\n",
    "    \n",
    "def get_psi_phi_from_pdb(pdb_id):\n",
    "    structure = load_pdb(pdb_id.upper())\n",
    "    data = get_psi_phi_from_structure(structure)\n",
    "    return(data)\n",
    "    "
   ]
  },
  {
   "cell_type": "code",
   "execution_count": 245,
   "metadata": {},
   "outputs": [
    {
     "name": "stderr",
     "output_type": "stream",
     "text": [
      "//anaconda3/lib/python3.7/site-packages/Bio/PDB/StructureBuilder.py:91: PDBConstructionWarning: WARNING: Chain A is discontinuous at line 18332.\n",
      "  PDBConstructionWarning)\n",
      "//anaconda3/lib/python3.7/site-packages/Bio/PDB/StructureBuilder.py:91: PDBConstructionWarning: WARNING: Chain B is discontinuous at line 18367.\n",
      "  PDBConstructionWarning)\n",
      "//anaconda3/lib/python3.7/site-packages/Bio/PDB/StructureBuilder.py:91: PDBConstructionWarning: WARNING: Chain A is discontinuous at line 18387.\n",
      "  PDBConstructionWarning)\n",
      "//anaconda3/lib/python3.7/site-packages/Bio/PDB/StructureBuilder.py:91: PDBConstructionWarning: WARNING: Chain B is discontinuous at line 18438.\n",
      "  PDBConstructionWarning)\n"
     ]
    }
   ],
   "source": [
    "dat = get_psi_phi_from_pdb('6AC8')"
   ]
  },
  {
   "cell_type": "code",
   "execution_count": 246,
   "metadata": {},
   "outputs": [],
   "source": [
    "ref = get_reference_dataset()"
   ]
  },
  {
   "cell_type": "markdown",
   "metadata": {},
   "source": []
  },
  {
   "cell_type": "code",
   "execution_count": null,
   "metadata": {},
   "outputs": [],
   "source": []
  },
  {
   "cell_type": "code",
   "execution_count": null,
   "metadata": {},
   "outputs": [],
   "source": []
  },
  {
   "cell_type": "code",
   "execution_count": 247,
   "metadata": {},
   "outputs": [
    {
     "data": {
      "text/plain": [
       "<matplotlib.axes._subplots.AxesSubplot at 0x137cf5470>"
      ]
     },
     "execution_count": 247,
     "metadata": {},
     "output_type": "execute_result"
    },
    {
     "data": {
      "image/png": "[encoded data removed]",
      "text/plain": [
       "<Figure size 432x288 with 1 Axes>"
      ]
     },
     "metadata": {
      "needs_background": "light"
     },
     "output_type": "display_data"
    }
   ],
   "source": [
    "ref.density.hist(bins=500)"
   ]
  },
  {
   "cell_type": "code",
   "execution_count": null,
   "metadata": {},
   "outputs": [],
   "source": []
  },
  {
   "cell_type": "code",
   "execution_count": null,
   "metadata": {},
   "outputs": [],
   "source": []
  }
 ],
 "metadata": {
  "kernelspec": {
   "display_name": "Python 3",
   "language": "python",
   "name": "python3"
  },
  "language_info": {
   "codemirror_mode": {
    "name": "ipython",
    "version": 3
   },
   "file_extension": ".py",
   "mimetype": "text/x-python",
   "name": "python",
   "nbconvert_exporter": "python",
   "pygments_lexer": "ipython3",
   "version": "3.7.3"
  }
 },
 "nbformat": 4,
 "nbformat_minor": 2
}
